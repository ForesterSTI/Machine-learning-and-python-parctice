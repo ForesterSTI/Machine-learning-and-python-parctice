{
 "cells": [
  {
   "cell_type": "markdown",
   "metadata": {},
   "source": [
    "## Co applicant Income data analysis"
   ]
  },
  {
   "cell_type": "markdown",
   "metadata": {},
   "source": [
    "#### Step 1. importing libraries\n",
    "\n"
   ]
  },
  {
   "cell_type": "code",
   "execution_count": 2,
   "metadata": {},
   "outputs": [],
   "source": [
    "#import libraries\n",
    "import numpy as np\n",
    "import pandas as pd\n",
    "import matplotlib.pyplot as plx\n",
    "import seaborn as sn\n",
    "import plotly.express as pl\n",
    "\n"
   ]
  },
  {
   "cell_type": "markdown",
   "metadata": {},
   "source": [
    "#### Step 2. Importing data"
   ]
  },
  {
   "cell_type": "code",
   "execution_count": 3,
   "metadata": {},
   "outputs": [
    {
     "data": {
      "text/html": [
       "<div>\n",
       "<style scoped>\n",
       "    .dataframe tbody tr th:only-of-type {\n",
       "        vertical-align: middle;\n",
       "    }\n",
       "\n",
       "    .dataframe tbody tr th {\n",
       "        vertical-align: top;\n",
       "    }\n",
       "\n",
       "    .dataframe thead th {\n",
       "        text-align: right;\n",
       "    }\n",
       "</style>\n",
       "<table border=\"1\" class=\"dataframe\">\n",
       "  <thead>\n",
       "    <tr style=\"text-align: right;\">\n",
       "      <th></th>\n",
       "      <th>Loan_ID</th>\n",
       "      <th>Gender</th>\n",
       "      <th>Married</th>\n",
       "      <th>Dependents</th>\n",
       "      <th>Education</th>\n",
       "      <th>Self_Employed</th>\n",
       "      <th>ApplicantIncome</th>\n",
       "      <th>CoapplicantIncome</th>\n",
       "      <th>LoanAmount</th>\n",
       "      <th>Loan_Amount_Term</th>\n",
       "      <th>Credit_History</th>\n",
       "      <th>Property_Area</th>\n",
       "      <th>Loan_Status</th>\n",
       "    </tr>\n",
       "  </thead>\n",
       "  <tbody>\n",
       "    <tr>\n",
       "      <th>0</th>\n",
       "      <td>LP001002</td>\n",
       "      <td>Male</td>\n",
       "      <td>No</td>\n",
       "      <td>0</td>\n",
       "      <td>Graduate</td>\n",
       "      <td>No</td>\n",
       "      <td>5849</td>\n",
       "      <td>0.0</td>\n",
       "      <td>NaN</td>\n",
       "      <td>360.0</td>\n",
       "      <td>1.0</td>\n",
       "      <td>Urban</td>\n",
       "      <td>Y</td>\n",
       "    </tr>\n",
       "    <tr>\n",
       "      <th>1</th>\n",
       "      <td>LP001003</td>\n",
       "      <td>Male</td>\n",
       "      <td>Yes</td>\n",
       "      <td>1</td>\n",
       "      <td>Graduate</td>\n",
       "      <td>No</td>\n",
       "      <td>4583</td>\n",
       "      <td>1508.0</td>\n",
       "      <td>128.0</td>\n",
       "      <td>360.0</td>\n",
       "      <td>1.0</td>\n",
       "      <td>Rural</td>\n",
       "      <td>N</td>\n",
       "    </tr>\n",
       "    <tr>\n",
       "      <th>2</th>\n",
       "      <td>LP001005</td>\n",
       "      <td>Male</td>\n",
       "      <td>Yes</td>\n",
       "      <td>0</td>\n",
       "      <td>Graduate</td>\n",
       "      <td>Yes</td>\n",
       "      <td>3000</td>\n",
       "      <td>0.0</td>\n",
       "      <td>66.0</td>\n",
       "      <td>360.0</td>\n",
       "      <td>1.0</td>\n",
       "      <td>Urban</td>\n",
       "      <td>Y</td>\n",
       "    </tr>\n",
       "    <tr>\n",
       "      <th>3</th>\n",
       "      <td>LP001006</td>\n",
       "      <td>Male</td>\n",
       "      <td>Yes</td>\n",
       "      <td>0</td>\n",
       "      <td>Not Graduate</td>\n",
       "      <td>No</td>\n",
       "      <td>2583</td>\n",
       "      <td>2358.0</td>\n",
       "      <td>120.0</td>\n",
       "      <td>360.0</td>\n",
       "      <td>1.0</td>\n",
       "      <td>Urban</td>\n",
       "      <td>Y</td>\n",
       "    </tr>\n",
       "    <tr>\n",
       "      <th>4</th>\n",
       "      <td>LP001008</td>\n",
       "      <td>Male</td>\n",
       "      <td>No</td>\n",
       "      <td>0</td>\n",
       "      <td>Graduate</td>\n",
       "      <td>No</td>\n",
       "      <td>6000</td>\n",
       "      <td>0.0</td>\n",
       "      <td>141.0</td>\n",
       "      <td>360.0</td>\n",
       "      <td>1.0</td>\n",
       "      <td>Urban</td>\n",
       "      <td>Y</td>\n",
       "    </tr>\n",
       "    <tr>\n",
       "      <th>...</th>\n",
       "      <td>...</td>\n",
       "      <td>...</td>\n",
       "      <td>...</td>\n",
       "      <td>...</td>\n",
       "      <td>...</td>\n",
       "      <td>...</td>\n",
       "      <td>...</td>\n",
       "      <td>...</td>\n",
       "      <td>...</td>\n",
       "      <td>...</td>\n",
       "      <td>...</td>\n",
       "      <td>...</td>\n",
       "      <td>...</td>\n",
       "    </tr>\n",
       "    <tr>\n",
       "      <th>609</th>\n",
       "      <td>LP002978</td>\n",
       "      <td>Female</td>\n",
       "      <td>No</td>\n",
       "      <td>0</td>\n",
       "      <td>Graduate</td>\n",
       "      <td>No</td>\n",
       "      <td>2900</td>\n",
       "      <td>0.0</td>\n",
       "      <td>71.0</td>\n",
       "      <td>360.0</td>\n",
       "      <td>1.0</td>\n",
       "      <td>Rural</td>\n",
       "      <td>Y</td>\n",
       "    </tr>\n",
       "    <tr>\n",
       "      <th>610</th>\n",
       "      <td>LP002979</td>\n",
       "      <td>Male</td>\n",
       "      <td>Yes</td>\n",
       "      <td>3+</td>\n",
       "      <td>Graduate</td>\n",
       "      <td>No</td>\n",
       "      <td>4106</td>\n",
       "      <td>0.0</td>\n",
       "      <td>40.0</td>\n",
       "      <td>180.0</td>\n",
       "      <td>1.0</td>\n",
       "      <td>Rural</td>\n",
       "      <td>Y</td>\n",
       "    </tr>\n",
       "    <tr>\n",
       "      <th>611</th>\n",
       "      <td>LP002983</td>\n",
       "      <td>Male</td>\n",
       "      <td>Yes</td>\n",
       "      <td>1</td>\n",
       "      <td>Graduate</td>\n",
       "      <td>No</td>\n",
       "      <td>8072</td>\n",
       "      <td>240.0</td>\n",
       "      <td>253.0</td>\n",
       "      <td>360.0</td>\n",
       "      <td>1.0</td>\n",
       "      <td>Urban</td>\n",
       "      <td>Y</td>\n",
       "    </tr>\n",
       "    <tr>\n",
       "      <th>612</th>\n",
       "      <td>LP002984</td>\n",
       "      <td>Male</td>\n",
       "      <td>Yes</td>\n",
       "      <td>2</td>\n",
       "      <td>Graduate</td>\n",
       "      <td>No</td>\n",
       "      <td>7583</td>\n",
       "      <td>0.0</td>\n",
       "      <td>187.0</td>\n",
       "      <td>360.0</td>\n",
       "      <td>1.0</td>\n",
       "      <td>Urban</td>\n",
       "      <td>Y</td>\n",
       "    </tr>\n",
       "    <tr>\n",
       "      <th>613</th>\n",
       "      <td>LP002990</td>\n",
       "      <td>Female</td>\n",
       "      <td>No</td>\n",
       "      <td>0</td>\n",
       "      <td>Graduate</td>\n",
       "      <td>Yes</td>\n",
       "      <td>4583</td>\n",
       "      <td>0.0</td>\n",
       "      <td>133.0</td>\n",
       "      <td>360.0</td>\n",
       "      <td>0.0</td>\n",
       "      <td>Semiurban</td>\n",
       "      <td>N</td>\n",
       "    </tr>\n",
       "  </tbody>\n",
       "</table>\n",
       "<p>614 rows × 13 columns</p>\n",
       "</div>"
      ],
      "text/plain": [
       "      Loan_ID  Gender Married Dependents     Education Self_Employed  \\\n",
       "0    LP001002    Male      No          0      Graduate            No   \n",
       "1    LP001003    Male     Yes          1      Graduate            No   \n",
       "2    LP001005    Male     Yes          0      Graduate           Yes   \n",
       "3    LP001006    Male     Yes          0  Not Graduate            No   \n",
       "4    LP001008    Male      No          0      Graduate            No   \n",
       "..        ...     ...     ...        ...           ...           ...   \n",
       "609  LP002978  Female      No          0      Graduate            No   \n",
       "610  LP002979    Male     Yes         3+      Graduate            No   \n",
       "611  LP002983    Male     Yes          1      Graduate            No   \n",
       "612  LP002984    Male     Yes          2      Graduate            No   \n",
       "613  LP002990  Female      No          0      Graduate           Yes   \n",
       "\n",
       "     ApplicantIncome  CoapplicantIncome  LoanAmount  Loan_Amount_Term  \\\n",
       "0               5849                0.0         NaN             360.0   \n",
       "1               4583             1508.0       128.0             360.0   \n",
       "2               3000                0.0        66.0             360.0   \n",
       "3               2583             2358.0       120.0             360.0   \n",
       "4               6000                0.0       141.0             360.0   \n",
       "..               ...                ...         ...               ...   \n",
       "609             2900                0.0        71.0             360.0   \n",
       "610             4106                0.0        40.0             180.0   \n",
       "611             8072              240.0       253.0             360.0   \n",
       "612             7583                0.0       187.0             360.0   \n",
       "613             4583                0.0       133.0             360.0   \n",
       "\n",
       "     Credit_History Property_Area Loan_Status  \n",
       "0               1.0         Urban           Y  \n",
       "1               1.0         Rural           N  \n",
       "2               1.0         Urban           Y  \n",
       "3               1.0         Urban           Y  \n",
       "4               1.0         Urban           Y  \n",
       "..              ...           ...         ...  \n",
       "609             1.0         Rural           Y  \n",
       "610             1.0         Rural           Y  \n",
       "611             1.0         Urban           Y  \n",
       "612             1.0         Urban           Y  \n",
       "613             0.0     Semiurban           N  \n",
       "\n",
       "[614 rows x 13 columns]"
      ]
     },
     "execution_count": 3,
     "metadata": {},
     "output_type": "execute_result"
    }
   ],
   "source": [
    "#load raw data\n",
    "raw = pd.read_csv(\"Data/raw_data.csv\")\n",
    "meta = pd.read_csv(\"Data/metadata.csv\")\n",
    "raw"
   ]
  },
  {
   "cell_type": "markdown",
   "metadata": {},
   "source": [
    "#### Step 3. Isolate CoaplicantIncom column into it's own data frame\n",
    "\n",
    "In addition we also check if there are any duplicate values"
   ]
  },
  {
   "cell_type": "code",
   "execution_count": 4,
   "metadata": {},
   "outputs": [
    {
     "data": {
      "text/plain": [
       "CoapplicantIncome    287\n",
       "dtype: int64"
      ]
     },
     "execution_count": 4,
     "metadata": {},
     "output_type": "execute_result"
    }
   ],
   "source": [
    "df = raw[['CoapplicantIncome']]\n",
    "Co_applicant =raw[['CoapplicantIncome']]\n",
    "test = df.select_dtypes(\"number\").nunique()\n",
    "test"
   ]
  },
  {
   "cell_type": "markdown",
   "metadata": {},
   "source": [
    "We foound that there are 287 unique values however we understand that this is numeric data and alot of our duplictes come from those who do not have ant Co-applicant income"
   ]
  },
  {
   "cell_type": "markdown",
   "metadata": {},
   "source": [
    "# Univariate analysis"
   ]
  },
  {
   "cell_type": "markdown",
   "metadata": {},
   "source": [
    "#### Step 4. Prepair data for box plot .\n",
    "Here we prepair the data before we plot it onto a box plot by  identifying the Quartiles, inter qartile rang calculations ans well as Outlier identificaton for further under standing of the data"
   ]
  },
  {
   "cell_type": "code",
   "execution_count": 5,
   "metadata": {},
   "outputs": [
    {
     "name": "stdout",
     "output_type": "stream",
     "text": [
      "The percentage of outliers:\t2.93%\n"
     ]
    }
   ],
   "source": [
    "\n",
    "#Quartile and IQR\n",
    "#find the quartile ranges to identify outliers\n",
    "Q1= df['CoapplicantIncome'].quantile(0.25) \n",
    "Q2= df['CoapplicantIncome'].quantile(0.5)\n",
    "Q3= df['CoapplicantIncome'].quantile(0.75)\n",
    "\n",
    "inter_quartile_range = Q3-Q1\n",
    "\n",
    "#find the inter quartile ranges\n",
    "lower_bound = Q1 - (1.5*inter_quartile_range)\n",
    "upper_bound = Q3 + (1.5*inter_quartile_range)\n",
    "\n",
    "#isolate outliers\n",
    "outliers_indexes = []\n",
    "counter = 0\n",
    "for index, row in enumerate(raw['CoapplicantIncome']):\n",
    "    if row < lower_bound:\n",
    "        outliers_indexes.append(index)\n",
    "    else:\n",
    "        if row > upper_bound:\n",
    "            outliers_indexes.append(index)  \n",
    "\n",
    "#Locate the outliers using the indexes from outliers_indexes\n",
    "Outliers_df = raw['CoapplicantIncome'].loc[outliers_indexes]\n",
    "#print(len(Outliers_df))\n",
    "#print(Outliers_df.index)\n",
    "\n",
    "#isolate outliers\n",
    "Outliers_df = Co_applicant['CoapplicantIncome'].loc[outliers_indexes]\n",
    "\n",
    "num_of_Outliers = len(outliers_indexes)\n",
    "percentage_of_outliers = (num_of_Outliers)*100/len(df)\n",
    "print(f\"The percentage of outliers:\\t{percentage_of_outliers.__round__(2)}%\")"
   ]
  },
  {
   "cell_type": "markdown",
   "metadata": {},
   "source": [
    "#### Step 5. Plot boxplot "
   ]
  },
  {
   "cell_type": "code",
   "execution_count": 7,
   "metadata": {},
   "outputs": [
    {
     "name": "stderr",
     "output_type": "stream",
     "text": [
      "c:\\Users\\amosm\\anaconda3\\Lib\\site-packages\\seaborn\\_oldcore.py:1119: FutureWarning: use_inf_as_na option is deprecated and will be removed in a future version. Convert inf values to NaN before operating instead.\n",
      "  with pd.option_context('mode.use_inf_as_na', True):\n",
      "c:\\Users\\amosm\\anaconda3\\Lib\\site-packages\\seaborn\\_oldcore.py:1119: FutureWarning: use_inf_as_na option is deprecated and will be removed in a future version. Convert inf values to NaN before operating instead.\n",
      "  with pd.option_context('mode.use_inf_as_na', True):\n"
     ]
    },
    {
     "data": {
      "image/png": "[encoded data removed]",
      "text/plain": [
       "<Figure size 600x400 with 1 Axes>"
      ]
     },
     "metadata": {},
     "output_type": "display_data"
    }
   ],
   "source": [
    "#Plot the box plot of the CoapplicantIncome column\n",
    "plx.figure(figsize=(6,4))\n",
    "sn.boxplot(x=raw['CoapplicantIncome'], color='skyblue')\n",
    "sn.swarmplot(x=Outliers_df, color='red', label='Outliers')\n",
    "plx.show() "
   ]
  },
  {
   "cell_type": "markdown",
   "metadata": {},
   "source": [
    "#### Takeaways\n",
    "\n",
    "- Oultiers account for only 2.93% of the data.\n",
    "- These applicnats have acceptionally high Co-applicant iincomes \n",
    "- Due to them accountiong for such low pecetage of the data this may indicate tht the bank rarely comes across\n",
    "    applicants with such a high CAI \"(Co applicant income)\"\n",
    "-and due to this these outliers will be removed "
   ]
  },
  {
   "cell_type": "markdown",
   "metadata": {},
   "source": [
    "#### Remove Outliers"
   ]
  },
  {
   "cell_type": "code",
   "execution_count": 30,
   "metadata": {},
   "outputs": [],
   "source": [
    "#removing Outliers\n",
    "#Drop the whole rows with outliers was using inplace !(run once)\n",
    "raw.drop(outliers_indexes, inplace=True)"
   ]
  },
  {
   "cell_type": "markdown",
   "metadata": {},
   "source": [
    "#### Step 6 prlot Histogram "
   ]
  },
  {
   "cell_type": "code",
   "execution_count": 31,
   "metadata": {},
   "outputs": [
    {
     "name": "stderr",
     "output_type": "stream",
     "text": [
      "c:\\Users\\amosm\\anaconda3\\Lib\\site-packages\\seaborn\\_oldcore.py:1119: FutureWarning:\n",
      "\n",
      "use_inf_as_na option is deprecated and will be removed in a future version. Convert inf values to NaN before operating instead.\n",
      "\n",
      "c:\\Users\\amosm\\anaconda3\\Lib\\site-packages\\seaborn\\_oldcore.py:1119: FutureWarning:\n",
      "\n",
      "use_inf_as_na option is deprecated and will be removed in a future version. Convert inf values to NaN before operating instead.\n",
      "\n"
     ]
    },
    {
     "data": {
      "image/png": "[encoded data removed]",
      "text/plain": [
       "<Figure size 500x500 with 1 Axes>"
      ]
     },
     "metadata": {},
     "output_type": "display_data"
    },
    {
     "data": {
      "image/png": "[encoded data removed]",
      "text/plain": [
       "<Figure size 500x500 with 1 Axes>"
      ]
     },
     "metadata": {},
     "output_type": "display_data"
    }
   ],
   "source": [
    "#check the distribution of CoapplicantIncome:\n",
    "pl.figure(figsize=(5, 5))\n",
    "sn.histplot(Co_applicant, kde=True)\n",
    "pl.title('Distribution of Co-applicant Income Before removing outliers')\n",
    "pl.xlabel('Co-applican tIncome ')\n",
    "\n",
    "\n",
    "pl.figure(figsize=(5, 5))\n",
    "sn.histplot(Co_applicant['CoapplicantIncome'], kde=True)\n",
    "pl.title('Distribution of Co-applicant Income after removing outliers')\n",
    "pl.xlabel('Co-applicant-Income')\n",
    "pl.show()"
   ]
  },
  {
   "cell_type": "markdown",
   "metadata": {},
   "source": [
    "#### Step 7. Statistical data"
   ]
  },
  {
   "cell_type": "code",
   "execution_count": 32,
   "metadata": {},
   "outputs": [
    {
     "name": "stdout",
     "output_type": "stream",
     "text": [
      "Central Tendency:\n",
      " mean: 1289.13\t median: 1031.0\n",
      "\n",
      "Spread:\n",
      " Standard deviation: 1461.73\t min:0.0\tmax:5701.0\n",
      "\n",
      "Skewness coefficient: 0.92\tKurtosis coefficent: 0.05\n"
     ]
    }
   ],
   "source": [
    "#Statistical measures\n",
    "\n",
    "#Central Tendency\n",
    "mean = raw['CoapplicantIncome'].mean().__round__(2)\n",
    "median = raw['CoapplicantIncome'].median().__round__(2)\n",
    "\n",
    "#Spread or Dispersion\n",
    "std = raw['CoapplicantIncome'].std().__round__(2)\n",
    "min = raw['CoapplicantIncome'].min().__round__(2)\n",
    "max = raw['CoapplicantIncome'].max().__round__(2)\n",
    "\n",
    "#Skewness\n",
    "skew_coef =raw['CoapplicantIncome'].skew().__round__(2)\n",
    "#K>0, heavier tails, K<0: lighter tails, k approx. 0: SIMILAR TAILS TO NORMAL\n",
    "kurt_coeff = raw['CoapplicantIncome'].kurt().__round__(2)\n",
    " \n",
    "print(f\"Central Tendency:\\n mean: {mean}\\t median: {median}\\n\")\n",
    "print(f\"Spread:\\n Standard deviation: {std}\\t min:{min}\\tmax:{max}\\n\")\n",
    "print(f\"Skewness coefficient: {skew_coef}\\tKurtosis coefficent: {kurt_coeff}\")"
   ]
  },
  {
   "cell_type": "markdown",
   "metadata": {},
   "source": [
    "#### Key Takaways\n",
    "\n",
    "* Avarage applicant has CAI or 1289.13\n",
    "* majority of applicant request loans with 0 CAI\n",
    "* highest CAI is recorded at 5701.0\n",
    "* The data is skewed to the right \n"
   ]
  },
  {
   "cell_type": "markdown",
   "metadata": {},
   "source": [
    "# Bivarate analysis \n"
   ]
  },
  {
   "cell_type": "code",
   "execution_count": 33,
   "metadata": {},
   "outputs": [
    {
     "ename": "ValueError",
     "evalue": "\nImage export using the \"kaleido\" engine requires the kaleido package,\nwhich can be installed using pip:\n    $ pip install -U kaleido\n",
     "output_type": "error",
     "traceback": [
      "\u001b[1;31m---------------------------------------------------------------------------\u001b[0m",
      "\u001b[1;31mValueError\u001b[0m                                Traceback (most recent call last)",
      "Cell \u001b[1;32mIn[33], line 7\u001b[0m\n\u001b[0;32m      4\u001b[0m fig \u001b[38;5;241m=\u001b[39m px\u001b[38;5;241m.\u001b[39mbox(data_frame\u001b[38;5;241m=\u001b[39mraw[\u001b[38;5;124m'\u001b[39m\u001b[38;5;124mCoapplicantIncome\u001b[39m\u001b[38;5;124m'\u001b[39m], x\u001b[38;5;241m=\u001b[39m\u001b[38;5;124m'\u001b[39m\u001b[38;5;124mCoapplicantIncome\u001b[39m\u001b[38;5;124m'\u001b[39m, color\u001b[38;5;241m=\u001b[39mraw[\u001b[38;5;124m'\u001b[39m\u001b[38;5;124mLoan_Status\u001b[39m\u001b[38;5;124m'\u001b[39m],\n\u001b[0;32m      5\u001b[0m                  title\u001b[38;5;241m=\u001b[39m\u001b[38;5;124mf\u001b[39m\u001b[38;5;124m'\u001b[39m\u001b[38;5;124mBoxPlot for Feature:CoapplicantIncome against the Target: Loan_Status\u001b[39m\u001b[38;5;124m'\u001b[39m)\n\u001b[0;32m      6\u001b[0m fig\u001b[38;5;241m.\u001b[39mupdate_layout(xaxis_title\u001b[38;5;241m=\u001b[39m\u001b[38;5;124mf\u001b[39m\u001b[38;5;124m'\u001b[39m\u001b[38;5;124mLoan_Status Feature\u001b[39m\u001b[38;5;124m'\u001b[39m)\n\u001b[1;32m----> 7\u001b[0m fig\u001b[38;5;241m.\u001b[39mshow()\n",
      "File \u001b[1;32mc:\\Users\\amosm\\anaconda3\\Lib\\site-packages\\plotly\\basedatatypes.py:3410\u001b[0m, in \u001b[0;36mBaseFigure.show\u001b[1;34m(self, *args, **kwargs)\u001b[0m\n\u001b[0;32m   3377\u001b[0m \u001b[38;5;250m\u001b[39m\u001b[38;5;124;03m\"\"\"\u001b[39;00m\n\u001b[0;32m   3378\u001b[0m \u001b[38;5;124;03mShow a figure using either the default renderer(s) or the renderer(s)\u001b[39;00m\n\u001b[0;32m   3379\u001b[0m \u001b[38;5;124;03mspecified by the renderer argument\u001b[39;00m\n\u001b[1;32m   (...)\u001b[0m\n\u001b[0;32m   3406\u001b[0m \u001b[38;5;124;03mNone\u001b[39;00m\n\u001b[0;32m   3407\u001b[0m \u001b[38;5;124;03m\"\"\"\u001b[39;00m\n\u001b[0;32m   3408\u001b[0m \u001b[38;5;28;01mimport\u001b[39;00m \u001b[38;5;21;01mplotly\u001b[39;00m\u001b[38;5;21;01m.\u001b[39;00m\u001b[38;5;21;01mio\u001b[39;00m \u001b[38;5;28;01mas\u001b[39;00m \u001b[38;5;21;01mpio\u001b[39;00m\n\u001b[1;32m-> 3410\u001b[0m \u001b[38;5;28;01mreturn\u001b[39;00m pio\u001b[38;5;241m.\u001b[39mshow(\u001b[38;5;28mself\u001b[39m, \u001b[38;5;241m*\u001b[39margs, \u001b[38;5;241m*\u001b[39m\u001b[38;5;241m*\u001b[39mkwargs)\n",
      "File \u001b[1;32mc:\\Users\\amosm\\anaconda3\\Lib\\site-packages\\plotly\\io\\_renderers.py:386\u001b[0m, in \u001b[0;36mshow\u001b[1;34m(fig, renderer, validate, **kwargs)\u001b[0m\n\u001b[0;32m    383\u001b[0m fig_dict \u001b[38;5;241m=\u001b[39m validate_coerce_fig_to_dict(fig, validate)\n\u001b[0;32m    385\u001b[0m \u001b[38;5;66;03m# Mimetype renderers\u001b[39;00m\n\u001b[1;32m--> 386\u001b[0m bundle \u001b[38;5;241m=\u001b[39m renderers\u001b[38;5;241m.\u001b[39m_build_mime_bundle(fig_dict, renderers_string\u001b[38;5;241m=\u001b[39mrenderer, \u001b[38;5;241m*\u001b[39m\u001b[38;5;241m*\u001b[39mkwargs)\n\u001b[0;32m    387\u001b[0m \u001b[38;5;28;01mif\u001b[39;00m bundle:\n\u001b[0;32m    388\u001b[0m     \u001b[38;5;28;01mif\u001b[39;00m \u001b[38;5;129;01mnot\u001b[39;00m ipython_display:\n",
      "File \u001b[1;32mc:\\Users\\amosm\\anaconda3\\Lib\\site-packages\\plotly\\io\\_renderers.py:294\u001b[0m, in \u001b[0;36mRenderersConfig._build_mime_bundle\u001b[1;34m(self, fig_dict, renderers_string, **kwargs)\u001b[0m\n\u001b[0;32m    291\u001b[0m             \u001b[38;5;28;01mif\u001b[39;00m \u001b[38;5;28mhasattr\u001b[39m(renderer, k):\n\u001b[0;32m    292\u001b[0m                 \u001b[38;5;28msetattr\u001b[39m(renderer, k, v)\n\u001b[1;32m--> 294\u001b[0m         bundle\u001b[38;5;241m.\u001b[39mupdate(renderer\u001b[38;5;241m.\u001b[39mto_mimebundle(fig_dict))\n\u001b[0;32m    296\u001b[0m \u001b[38;5;28;01mreturn\u001b[39;00m bundle\n",
      "File \u001b[1;32mc:\\Users\\amosm\\anaconda3\\Lib\\site-packages\\plotly\\io\\_base_renderers.py:126\u001b[0m, in \u001b[0;36mImageRenderer.to_mimebundle\u001b[1;34m(self, fig_dict)\u001b[0m\n\u001b[0;32m    125\u001b[0m \u001b[38;5;28;01mdef\u001b[39;00m \u001b[38;5;21mto_mimebundle\u001b[39m(\u001b[38;5;28mself\u001b[39m, fig_dict):\n\u001b[1;32m--> 126\u001b[0m     image_bytes \u001b[38;5;241m=\u001b[39m to_image(\n\u001b[0;32m    127\u001b[0m         fig_dict,\n\u001b[0;32m    128\u001b[0m         \u001b[38;5;28mformat\u001b[39m\u001b[38;5;241m=\u001b[39m\u001b[38;5;28mself\u001b[39m\u001b[38;5;241m.\u001b[39mformat,\n\u001b[0;32m    129\u001b[0m         width\u001b[38;5;241m=\u001b[39m\u001b[38;5;28mself\u001b[39m\u001b[38;5;241m.\u001b[39mwidth,\n\u001b[0;32m    130\u001b[0m         height\u001b[38;5;241m=\u001b[39m\u001b[38;5;28mself\u001b[39m\u001b[38;5;241m.\u001b[39mheight,\n\u001b[0;32m    131\u001b[0m         scale\u001b[38;5;241m=\u001b[39m\u001b[38;5;28mself\u001b[39m\u001b[38;5;241m.\u001b[39mscale,\n\u001b[0;32m    132\u001b[0m         validate\u001b[38;5;241m=\u001b[39m\u001b[38;5;28;01mFalse\u001b[39;00m,\n\u001b[0;32m    133\u001b[0m         engine\u001b[38;5;241m=\u001b[39m\u001b[38;5;28mself\u001b[39m\u001b[38;5;241m.\u001b[39mengine,\n\u001b[0;32m    134\u001b[0m     )\n\u001b[0;32m    136\u001b[0m     \u001b[38;5;28;01mif\u001b[39;00m \u001b[38;5;28mself\u001b[39m\u001b[38;5;241m.\u001b[39mb64_encode:\n\u001b[0;32m    137\u001b[0m         image_str \u001b[38;5;241m=\u001b[39m base64\u001b[38;5;241m.\u001b[39mb64encode(image_bytes)\u001b[38;5;241m.\u001b[39mdecode(\u001b[38;5;124m\"\u001b[39m\u001b[38;5;124mutf8\u001b[39m\u001b[38;5;124m\"\u001b[39m)\n",
      "File \u001b[1;32mc:\\Users\\amosm\\anaconda3\\Lib\\site-packages\\plotly\\io\\_kaleido.py:132\u001b[0m, in \u001b[0;36mto_image\u001b[1;34m(fig, format, width, height, scale, validate, engine)\u001b[0m\n\u001b[0;32m    130\u001b[0m     \u001b[38;5;66;03m# Raise informative error message if Kaleido is not installed\u001b[39;00m\n\u001b[0;32m    131\u001b[0m     \u001b[38;5;28;01mif\u001b[39;00m scope \u001b[38;5;129;01mis\u001b[39;00m \u001b[38;5;28;01mNone\u001b[39;00m:\n\u001b[1;32m--> 132\u001b[0m         \u001b[38;5;28;01mraise\u001b[39;00m \u001b[38;5;167;01mValueError\u001b[39;00m(\n\u001b[0;32m    133\u001b[0m \u001b[38;5;250m            \u001b[39m\u001b[38;5;124;03m\"\"\"\u001b[39;00m\n\u001b[0;32m    134\u001b[0m \u001b[38;5;124;03mImage export using the \"kaleido\" engine requires the kaleido package,\u001b[39;00m\n\u001b[0;32m    135\u001b[0m \u001b[38;5;124;03mwhich can be installed using pip:\u001b[39;00m\n\u001b[0;32m    136\u001b[0m \u001b[38;5;124;03m    $ pip install -U kaleido\u001b[39;00m\n\u001b[0;32m    137\u001b[0m \u001b[38;5;124;03m\"\"\"\u001b[39;00m\n\u001b[0;32m    138\u001b[0m         )\n\u001b[0;32m    140\u001b[0m     \u001b[38;5;66;03m# Validate figure\u001b[39;00m\n\u001b[0;32m    141\u001b[0m     \u001b[38;5;66;03m# ---------------\u001b[39;00m\n\u001b[0;32m    142\u001b[0m     fig_dict \u001b[38;5;241m=\u001b[39m validate_coerce_fig_to_dict(fig, validate)\n",
      "\u001b[1;31mValueError\u001b[0m: \nImage export using the \"kaleido\" engine requires the kaleido package,\nwhich can be installed using pip:\n    $ pip install -U kaleido\n"
     ]
    }
   ],
   "source": [
    "#Bivariate distributions\n",
    "\n",
    "#Plot features to box plot that will repreaent the distribution of the data showing thr data range mean median and inter quatile range \n",
    "fig = px.box(data_frame=raw['CoapplicantIncome'], x='CoapplicantIncome', color=raw['Loan_Status'],\n",
    "                 title=f'BoxPlot for Feature:CoapplicantIncome against the Target: Loan_Status')\n",
    "fig.update_layout(xaxis_title=f'Loan_Status Feature')\n",
    "fig.show()"
   ]
  },
  {
   "cell_type": "markdown",
   "metadata": {},
   "source": [
    "#### Observation\n",
    "\n",
    "Observation form the data we can clearly tell that co applicnt income was not a decising factor \n",
    "in being awarded a Loan, from both box plots we a cettain that the lower 25% of applicants had no Co applicant \n",
    "income, further more the the avarage of those denied and those accepted had incomes of 268 and 1,239.5 along with an upper fence of 5701 for 'yes' Loae_Status  and 5302 for 'No' Loae_Status  \n",
    "Key points"
   ]
  },
  {
   "cell_type": "code",
   "execution_count": 11,
   "metadata": {},
   "outputs": [
    {
     "name": "stderr",
     "output_type": "stream",
     "text": [
      "c:\\Users\\amosm\\anaconda3\\Lib\\site-packages\\pandas\\core\\arraylike.py:396: RuntimeWarning:\n",
      "\n",
      "divide by zero encountered in log\n",
      "\n"
     ]
    },
    {
     "data": {
      "application/vnd.plotly.v1+json": {
       "config": {
        "plotlyServerURL": "https://plot.ly"
       },
       "data": [
        {
         "alignmentgroup": "True",
         "bingroup": "x",
         "hovertemplate": "Loan_Status=Y<br>Log_CoapplicantIncome=%{x}<br>count=%{y}<extra></extra>",
         "legendgroup": "Y",
         "marker": {
          "color": "#636efa",
          "pattern": {
           "shape": ""
          }
         },
         "name": "Y",
         "offsetgroup": "Y",
         "orientation": "v",
         "showlegend": true,
         "type": "histogram",
         "x": [
          null,
          null,
          7.765569081097317,
          null,
          8.341886969516187,
          7.323830566202317,
          7.330405211844402,
          6.551080335043404,
          7.517520850603031,
          6.990256500493881,
          null,
          null,
          8.160518247477505,
          8.63497622707262,
          null,
          7.720017940432244,
          6.946975992135418,
          7.641564441260972,
          7.418780882750794,
          7.633853559681768,
          7.285506548522785,
          7.419380582918692,
          7.10085190894405,
          null,
          7.756195343948118,
          null,
          null,
          null,
          null,
          7.729735331385051,
          7.404887575616125,
          null,
          7.062191632286556,
          7.372118028337787,
          7.718685495198466,
          7.958227192322312,
          8.241703159729818,
          null,
          null,
          null,
          8.028129059431759,
          7.536363938404511,
          null,
          7.480992162869525,
          7.680637427560936,
          null,
          null,
          null,
          7.836369760545124,
          7.600902459542082,
          7.658227526161352,
          null,
          8.334951631422454,
          7.9724660159745655,
          8.640118538253535,
          7.506591780070841,
          null,
          null,
          7.741533589281828,
          6.904750769961838,
          null,
          8.172164452111904,
          8.09040229659332,
          8.244334047856094,
          null,
          8.183955717304954,
          6.625392368007956,
          6.937314081223682,
          7.026426808699636,
          6.625392368007956,
          null,
          7.75491027202143,
          null,
          null,
          null,
          7.733245646529795,
          7.242797922793756,
          null,
          7.888709524182015,
          null,
          null,
          7.607878073278507,
          null,
          null,
          7.402451520818244,
          null,
          7.564757012905729,
          null,
          null,
          null,
          8.160518247477505,
          null,
          null,
          7.617759576608505,
          null,
          8.408716715080153,
          null,
          7.261927092702751,
          6.721425700790643,
          8.229511118964457,
          null,
          null,
          null,
          null,
          7.641564441260972,
          8.63497622707262,
          6.947937068614969,
          7.277247726631484,
          null,
          8.060224240440958,
          8.11162807830774,
          null,
          7.478169694159785,
          null,
          8.63497622707262,
          7.582738488914411,
          7.389563953677635,
          null,
          null,
          null,
          8.465899897028686,
          7.6676260915849905,
          8.574707097616844,
          null,
          null,
          null,
          null,
          8.229511118964457,
          7.768533300926033,
          7.943072717277933,
          7.824046010856292,
          null,
          6.9874902470009905,
          null,
          null,
          null,
          7.836369760545124,
          null,
          null,
          null,
          8.013343181386672,
          6.890609120147166,
          7.4815557019095165,
          7.776115477098742,
          7.448333860897476,
          7.934155233536322,
          6.917705609835305,
          null,
          7.43543801981455,
          null,
          null,
          7.627544390488503,
          null,
          7.862497197230545,
          null,
          7.483806687665835,
          7.138866999945524,
          null,
          null,
          null,
          8.517193191416238,
          8.648396877031582,
          7.170119543449628,
          8.393216011596527,
          null,
          null,
          7.519149957669823,
          7.532623618788788,
          7.681099001536359,
          null,
          8.354674261918463,
          7.700295203420117,
          null,
          null,
          8.145259566516865,
          7.234898420314831,
          7.501634457883413,
          7.352441100243583,
          null,
          null,
          7.526717561352706,
          7.706612913964197,
          null,
          7.518607216815252,
          8.09376775793108,
          7.170119543449628,
          null,
          null,
          6.684611727667927,
          6.893453481895542,
          7.418180822726788,
          8.023879992734878,
          7.600902459542082,
          null,
          null,
          7.789868559054706,
          7.352441100243583,
          8.111928063310739,
          7.1308988302963465,
          null,
          null,
          7.4673710669175595,
          null,
          7.497207223203318,
          7.824046010856292,
          7.418180822726788,
          null,
          null,
          7.785305182539862,
          null,
          null,
          7.402451520818244,
          null,
          7.665753431861699,
          null,
          7.681099001536359,
          5.241747015059643,
          7.371489295214277,
          8.001355025826703,
          null,
          null,
          7.67786350067821,
          null,
          7.491645473605133,
          null,
          null,
          null,
          7.513709247839705,
          8.4096079807363,
          6.5337888379333435,
          8.433811582477187,
          null,
          7.113956109566034,
          null,
          7.753623546559746,
          7.80710329012598,
          7.681560362559537,
          8.430109084509125,
          null,
          7.641564441260972,
          6.22455842927536,
          null,
          8.06054004653864,
          8.06054004653864,
          8.207129168071326,
          7.75491027202143,
          8.017307507688582,
          null,
          null,
          null,
          null,
          7.285506548522785,
          6.827629234502852,
          8.516392871245468,
          null,
          null,
          7.824046010856292,
          8.350429973538136,
          null,
          null,
          null,
          7.3777589082278725,
          7.790282380703483,
          null,
          null,
          null,
          7.656810091480378,
          7.393263094763838,
          7.24422751560335,
          6.182084906716632,
          7.285506548522785,
          7.418180822726788,
          null,
          null,
          7.783224016336037,
          null,
          null,
          7.617267813628347,
          null,
          7.927685045615778,
          7.256297239690681,
          null,
          7.449498005382849,
          null,
          8.366370301681654,
          null,
          2.780060789187662,
          null,
          null,
          null,
          7.757906208351747,
          null,
          null,
          7.523481312573497,
          7.025538314638521,
          null,
          8.529911963824013,
          7.513709247839705,
          7.597396320212795,
          null,
          7.098375638590786,
          null,
          7.283448228756631,
          7.81035268372429,
          null,
          null,
          null,
          null,
          8.314587291319576,
          null,
          7.690743163541872,
          null,
          null,
          null,
          7.978310969867722,
          7.639642287858013,
          null,
          null,
          8.444192298531748,
          6.921658184151129,
          7.4673710669175595,
          7.718685495198466,
          null,
          null,
          8.055157731819678,
          null,
          null,
          7.798112628829788,
          7.641564441260972,
          7.932003152361385,
          7.030857476116121,
          null,
          null,
          6.816735880594968,
          7.438383530044307,
          7.957527402230773,
          null,
          8.211482916445066,
          null,
          8.6347984334905,
          7.301822342137932,
          8.392989587956931,
          8.0106915391303,
          null,
          7.602900462204755,
          7.618251097876695,
          8.13973227971767,
          7.397561535524052,
          7.462789157412448,
          null,
          7.261225091971921,
          null,
          null,
          7.265429723253953,
          7.171656822768514,
          null,
          8.612503371220562,
          null,
          null,
          7.621684998724611,
          8.270269111436624,
          null,
          null,
          7.953318346560431,
          null,
          7.8336002236611035,
          6.4967749901858625,
          7.575584651557793,
          7.48605261786314,
          7.60887062919126,
          7.772752716468742,
          8.086410275323782,
          6.939253946041508,
          7.393263094763838,
          null,
          7.889459149404524,
          7.743269700829004,
          5.488937726156687,
          null,
          7.627544390488503,
          null,
          null,
          null,
          7.4673710669175595,
          null,
          6.133398042996649,
          7.915348169263078,
          7.710653323501202,
          7.978310969867722,
          null,
          null,
          7.3277805384216315,
          null,
          null,
          8.13622555490846,
          null,
          8.101677747454572,
          null,
          null,
          null,
          null,
          7.934513463882263,
          null,
          8.366602832783736,
          null,
          7.824046010856292,
          7.252053951852814,
          7.575584651557793,
          null,
          null,
          5.480638923341991,
          null
         ],
         "xaxis": "x",
         "yaxis": "y"
        },
        {
         "alignmentgroup": "True",
         "bingroup": "x",
         "hovertemplate": "Loan_Status=N<br>Log_CoapplicantIncome=%{x}<br>count=%{y}<extra></extra>",
         "legendgroup": "N",
         "marker": {
          "color": "#EF553B",
          "pattern": {
           "shape": ""
          }
         },
         "name": "N",
         "offsetgroup": "N",
         "orientation": "v",
         "showlegend": true,
         "type": "histogram",
         "x": [
          7.318539548567902,
          7.825644732219989,
          7.951559331155252,
          null,
          null,
          null,
          7.555381944240273,
          7.558516743045645,
          7.981049759665957,
          null,
          8.122371243406553,
          null,
          null,
          8.006367567650246,
          7.1929342212158,
          null,
          8.143226750367445,
          null,
          null,
          null,
          7.696212639346407,
          8.145839612936841,
          null,
          null,
          8.432724034789787,
          7.720461694599722,
          null,
          null,
          null,
          8.465899897028686,
          8.013674142832684,
          8.294049640102028,
          7.53955882930103,
          7.718685495198466,
          null,
          null,
          8.1886891244442,
          8.322151070212902,
          7.669495251007694,
          8.25582842728183,
          7.851271997109883,
          null,
          null,
          7.265429723253953,
          7.641564441260972,
          7.418180822726788,
          null,
          null,
          null,
          null,
          7.154615356913663,
          null,
          null,
          null,
          6.601230118728877,
          7.280008252884188,
          8.529714471969909,
          null,
          null,
          null,
          null,
          7.8567067930958405,
          null,
          null,
          null,
          null,
          7.1308988302963465,
          7.495541943884256,
          null,
          null,
          null,
          null,
          null,
          7.592366128519796,
          8.374015421739909,
          8.266164436612492,
          null,
          null,
          null,
          null,
          7.649692623711514,
          null,
          null,
          null,
          7.793999089503996,
          null,
          7.448333860897476,
          null,
          null,
          7.840312983320164,
          7.981049759665957,
          7.984121958702927,
          null,
          7.529943370601589,
          null,
          7.519149957669823,
          null,
          8.513787398281405,
          7.804251383528112,
          null,
          7.369600720526409,
          null,
          8.080237416216702,
          8.334951631422454,
          null,
          null,
          7.418180822726788,
          null,
          null,
          null,
          null,
          8.569026340056254,
          7.594381242551817,
          null,
          null,
          8.0507033814703,
          null,
          7.495541943884256,
          null,
          null,
          null,
          null,
          null,
          null,
          null,
          8.082402253926244,
          null,
          null,
          7.418780882750794,
          null,
          null,
          null,
          7.226936018493289,
          7.444248649496705,
          7.340835554123275,
          7.134890851565884,
          7.457609289715606,
          7.851271997109883,
          null,
          null,
          7.416979621381154,
          7.804251383528112,
          7.313220387090301,
          7.534762657037537,
          7.3796321526095525,
          null,
          null,
          null,
          7.676473646389156,
          8.392989587956931,
          8.57583938684897,
          null,
          7.160069207596127,
          8.20685642839965,
          7.495541943884256,
          7.557472901614746,
          null,
          7.643482907077201,
          null,
          null,
          6.284134161070802,
          null,
          null,
          null,
          null,
          7.75491027202143,
          8.358431899031295,
          null,
          7.824046010856292,
          null,
          7.6324011266014535,
          7.280008252884188,
          7.393263094763838,
          null,
          7.700747794511798,
          null,
          7.558516743045645,
          8.006367567650246,
          null,
          null,
          6.907755278982137,
          null,
          8.242756345714477,
          null
         ],
         "xaxis": "x2",
         "yaxis": "y2"
        }
       ],
       "layout": {
        "annotations": [
         {
          "font": {},
          "showarrow": false,
          "text": "Loan_Status=Y",
          "x": 0.245,
          "xanchor": "center",
          "xref": "paper",
          "y": 1,
          "yanchor": "bottom",
          "yref": "paper"
         },
         {
          "font": {},
          "showarrow": false,
          "text": "Loan_Status=N",
          "x": 0.755,
          "xanchor": "center",
          "xref": "paper",
          "y": 1,
          "yanchor": "bottom",
          "yref": "paper"
         }
        ],
        "barmode": "relative",
        "legend": {
         "title": {
          "text": "Loan_Status"
         },
         "tracegroupgap": 0
        },
        "showlegend": false,
        "template": {
         "data": {
          "bar": [
           {
            "error_x": {
             "color": "#2a3f5f"
            },
            "error_y": {
             "color": "#2a3f5f"
            },
            "marker": {
             "line": {
              "color": "#E5ECF6",
              "width": 0.5
             },
             "pattern": {
              "fillmode": "overlay",
              "size": 10,
              "solidity": 0.2
             }
            },
            "type": "bar"
           }
          ],
          "barpolar": [
           {
            "marker": {
             "line": {
              "color": "#E5ECF6",
              "width": 0.5
             },
             "pattern": {
              "fillmode": "overlay",
              "size": 10,
              "solidity": 0.2
             }
            },
            "type": "barpolar"
           }
          ],
          "carpet": [
           {
            "aaxis": {
             "endlinecolor": "#2a3f5f",
             "gridcolor": "white",
             "linecolor": "white",
             "minorgridcolor": "white",
             "startlinecolor": "#2a3f5f"
            },
            "baxis": {
             "endlinecolor": "#2a3f5f",
             "gridcolor": "white",
             "linecolor": "white",
             "minorgridcolor": "white",
             "startlinecolor": "#2a3f5f"
            },
            "type": "carpet"
           }
          ],
          "choropleth": [
           {
            "colorbar": {
             "outlinewidth": 0,
             "ticks": ""
            },
            "type": "choropleth"
           }
          ],
          "contour": [
           {
            "colorbar": {
             "outlinewidth": 0,
             "ticks": ""
            },
            "colorscale": [
             [
              0,
              "#0d0887"
             ],
             [
              0.1111111111111111,
              "#46039f"
             ],
             [
              0.2222222222222222,
              "#7201a8"
             ],
             [
              0.3333333333333333,
              "#9c179e"
             ],
             [
              0.4444444444444444,
              "#bd3786"
             ],
             [
              0.5555555555555556,
              "#d8576b"
             ],
             [
              0.6666666666666666,
              "#ed7953"
             ],
             [
              0.7777777777777778,
              "#fb9f3a"
             ],
             [
              0.8888888888888888,
              "#fdca26"
             ],
             [
              1,
              "#f0f921"
             ]
            ],
            "type": "contour"
           }
          ],
          "contourcarpet": [
           {
            "colorbar": {
             "outlinewidth": 0,
             "ticks": ""
            },
            "type": "contourcarpet"
           }
          ],
          "heatmap": [
           {
            "colorbar": {
             "outlinewidth": 0,
             "ticks": ""
            },
            "colorscale": [
             [
              0,
              "#0d0887"
             ],
             [
              0.1111111111111111,
              "#46039f"
             ],
             [
              0.2222222222222222,
              "#7201a8"
             ],
             [
              0.3333333333333333,
              "#9c179e"
             ],
             [
              0.4444444444444444,
              "#bd3786"
             ],
             [
              0.5555555555555556,
              "#d8576b"
             ],
             [
              0.6666666666666666,
              "#ed7953"
             ],
             [
              0.7777777777777778,
              "#fb9f3a"
             ],
             [
              0.8888888888888888,
              "#fdca26"
             ],
             [
              1,
              "#f0f921"
             ]
            ],
            "type": "heatmap"
           }
          ],
          "heatmapgl": [
           {
            "colorbar": {
             "outlinewidth": 0,
             "ticks": ""
            },
            "colorscale": [
             [
              0,
              "#0d0887"
             ],
             [
              0.1111111111111111,
              "#46039f"
             ],
             [
              0.2222222222222222,
              "#7201a8"
             ],
             [
              0.3333333333333333,
              "#9c179e"
             ],
             [
              0.4444444444444444,
              "#bd3786"
             ],
             [
              0.5555555555555556,
              "#d8576b"
             ],
             [
              0.6666666666666666,
              "#ed7953"
             ],
             [
              0.7777777777777778,
              "#fb9f3a"
             ],
             [
              0.8888888888888888,
              "#fdca26"
             ],
             [
              1,
              "#f0f921"
             ]
            ],
            "type": "heatmapgl"
           }
          ],
          "histogram": [
           {
            "marker": {
             "pattern": {
              "fillmode": "overlay",
              "size": 10,
              "solidity": 0.2
             }
            },
            "type": "histogram"
           }
          ],
          "histogram2d": [
           {
            "colorbar": {
             "outlinewidth": 0,
             "ticks": ""
            },
            "colorscale": [
             [
              0,
              "#0d0887"
             ],
             [
              0.1111111111111111,
              "#46039f"
             ],
             [
              0.2222222222222222,
              "#7201a8"
             ],
             [
              0.3333333333333333,
              "#9c179e"
             ],
             [
              0.4444444444444444,
              "#bd3786"
             ],
             [
              0.5555555555555556,
              "#d8576b"
             ],
             [
              0.6666666666666666,
              "#ed7953"
             ],
             [
              0.7777777777777778,
              "#fb9f3a"
             ],
             [
              0.8888888888888888,
              "#fdca26"
             ],
             [
              1,
              "#f0f921"
             ]
            ],
            "type": "histogram2d"
           }
          ],
          "histogram2dcontour": [
           {
            "colorbar": {
             "outlinewidth": 0,
             "ticks": ""
            },
            "colorscale": [
             [
              0,
              "#0d0887"
             ],
             [
              0.1111111111111111,
              "#46039f"
             ],
             [
              0.2222222222222222,
              "#7201a8"
             ],
             [
              0.3333333333333333,
              "#9c179e"
             ],
             [
              0.4444444444444444,
              "#bd3786"
             ],
             [
              0.5555555555555556,
              "#d8576b"
             ],
             [
              0.6666666666666666,
              "#ed7953"
             ],
             [
              0.7777777777777778,
              "#fb9f3a"
             ],
             [
              0.8888888888888888,
              "#fdca26"
             ],
             [
              1,
              "#f0f921"
             ]
            ],
            "type": "histogram2dcontour"
           }
          ],
          "mesh3d": [
           {
            "colorbar": {
             "outlinewidth": 0,
             "ticks": ""
            },
            "type": "mesh3d"
           }
          ],
          "parcoords": [
           {
            "line": {
             "colorbar": {
              "outlinewidth": 0,
              "ticks": ""
             }
            },
            "type": "parcoords"
           }
          ],
          "pie": [
           {
            "automargin": true,
            "type": "pie"
           }
          ],
          "scatter": [
           {
            "fillpattern": {
             "fillmode": "overlay",
             "size": 10,
             "solidity": 0.2
            },
            "type": "scatter"
           }
          ],
          "scatter3d": [
           {
            "line": {
             "colorbar": {
              "outlinewidth": 0,
              "ticks": ""
             }
            },
            "marker": {
             "colorbar": {
              "outlinewidth": 0,
              "ticks": ""
             }
            },
            "type": "scatter3d"
           }
          ],
          "scattercarpet": [
           {
            "marker": {
             "colorbar": {
              "outlinewidth": 0,
              "ticks": ""
             }
            },
            "type": "scattercarpet"
           }
          ],
          "scattergeo": [
           {
            "marker": {
             "colorbar": {
              "outlinewidth": 0,
              "ticks": ""
             }
            },
            "type": "scattergeo"
           }
          ],
          "scattergl": [
           {
            "marker": {
             "colorbar": {
              "outlinewidth": 0,
              "ticks": ""
             }
            },
            "type": "scattergl"
           }
          ],
          "scattermapbox": [
           {
            "marker": {
             "colorbar": {
              "outlinewidth": 0,
              "ticks": ""
             }
            },
            "type": "scattermapbox"
           }
          ],
          "scatterpolar": [
           {
            "marker": {
             "colorbar": {
              "outlinewidth": 0,
              "ticks": ""
             }
            },
            "type": "scatterpolar"
           }
          ],
          "scatterpolargl": [
           {
            "marker": {
             "colorbar": {
              "outlinewidth": 0,
              "ticks": ""
             }
            },
            "type": "scatterpolargl"
           }
          ],
          "scatterternary": [
           {
            "marker": {
             "colorbar": {
              "outlinewidth": 0,
              "ticks": ""
             }
            },
            "type": "scatterternary"
           }
          ],
          "surface": [
           {
            "colorbar": {
             "outlinewidth": 0,
             "ticks": ""
            },
            "colorscale": [
             [
              0,
              "#0d0887"
             ],
             [
              0.1111111111111111,
              "#46039f"
             ],
             [
              0.2222222222222222,
              "#7201a8"
             ],
             [
              0.3333333333333333,
              "#9c179e"
             ],
             [
              0.4444444444444444,
              "#bd3786"
             ],
             [
              0.5555555555555556,
              "#d8576b"
             ],
             [
              0.6666666666666666,
              "#ed7953"
             ],
             [
              0.7777777777777778,
              "#fb9f3a"
             ],
             [
              0.8888888888888888,
              "#fdca26"
             ],
             [
              1,
              "#f0f921"
             ]
            ],
            "type": "surface"
           }
          ],
          "table": [
           {
            "cells": {
             "fill": {
              "color": "#EBF0F8"
             },
             "line": {
              "color": "white"
             }
            },
            "header": {
             "fill": {
              "color": "#C8D4E3"
             },
             "line": {
              "color": "white"
             }
            },
            "type": "table"
           }
          ]
         },
         "layout": {
          "annotationdefaults": {
           "arrowcolor": "#2a3f5f",
           "arrowhead": 0,
           "arrowwidth": 1
          },
          "autotypenumbers": "strict",
          "coloraxis": {
           "colorbar": {
            "outlinewidth": 0,
            "ticks": ""
           }
          },
          "colorscale": {
           "diverging": [
            [
             0,
             "#8e0152"
            ],
            [
             0.1,
             "#c51b7d"
            ],
            [
             0.2,
             "#de77ae"
            ],
            [
             0.3,
             "#f1b6da"
            ],
            [
             0.4,
             "#fde0ef"
            ],
            [
             0.5,
             "#f7f7f7"
            ],
            [
             0.6,
             "#e6f5d0"
            ],
            [
             0.7,
             "#b8e186"
            ],
            [
             0.8,
             "#7fbc41"
            ],
            [
             0.9,
             "#4d9221"
            ],
            [
             1,
             "#276419"
            ]
           ],
           "sequential": [
            [
             0,
             "#0d0887"
            ],
            [
             0.1111111111111111,
             "#46039f"
            ],
            [
             0.2222222222222222,
             "#7201a8"
            ],
            [
             0.3333333333333333,
             "#9c179e"
            ],
            [
             0.4444444444444444,
             "#bd3786"
            ],
            [
             0.5555555555555556,
             "#d8576b"
            ],
            [
             0.6666666666666666,
             "#ed7953"
            ],
            [
             0.7777777777777778,
             "#fb9f3a"
            ],
            [
             0.8888888888888888,
             "#fdca26"
            ],
            [
             1,
             "#f0f921"
            ]
           ],
           "sequentialminus": [
            [
             0,
             "#0d0887"
            ],
            [
             0.1111111111111111,
             "#46039f"
            ],
            [
             0.2222222222222222,
             "#7201a8"
            ],
            [
             0.3333333333333333,
             "#9c179e"
            ],
            [
             0.4444444444444444,
             "#bd3786"
            ],
            [
             0.5555555555555556,
             "#d8576b"
            ],
            [
             0.6666666666666666,
             "#ed7953"
            ],
            [
             0.7777777777777778,
             "#fb9f3a"
            ],
            [
             0.8888888888888888,
             "#fdca26"
            ],
            [
             1,
             "#f0f921"
            ]
           ]
          },
          "colorway": [
           "#636efa",
           "#EF553B",
           "#00cc96",
           "#ab63fa",
           "#FFA15A",
           "#19d3f3",
           "#FF6692",
           "#B6E880",
           "#FF97FF",
           "#FECB52"
          ],
          "font": {
           "color": "#2a3f5f"
          },
          "geo": {
           "bgcolor": "white",
           "lakecolor": "white",
           "landcolor": "#E5ECF6",
           "showlakes": true,
           "showland": true,
           "subunitcolor": "white"
          },
          "hoverlabel": {
           "align": "left"
          },
          "hovermode": "closest",
          "mapbox": {
           "style": "light"
          },
          "paper_bgcolor": "white",
          "plot_bgcolor": "#E5ECF6",
          "polar": {
           "angularaxis": {
            "gridcolor": "white",
            "linecolor": "white",
            "ticks": ""
           },
           "bgcolor": "#E5ECF6",
           "radialaxis": {
            "gridcolor": "white",
            "linecolor": "white",
            "ticks": ""
           }
          },
          "scene": {
           "xaxis": {
            "backgroundcolor": "#E5ECF6",
            "gridcolor": "white",
            "gridwidth": 2,
            "linecolor": "white",
            "showbackground": true,
            "ticks": "",
            "zerolinecolor": "white"
           },
           "yaxis": {
            "backgroundcolor": "#E5ECF6",
            "gridcolor": "white",
            "gridwidth": 2,
            "linecolor": "white",
            "showbackground": true,
            "ticks": "",
            "zerolinecolor": "white"
           },
           "zaxis": {
            "backgroundcolor": "#E5ECF6",
            "gridcolor": "white",
            "gridwidth": 2,
            "linecolor": "white",
            "showbackground": true,
            "ticks": "",
            "zerolinecolor": "white"
           }
          },
          "shapedefaults": {
           "line": {
            "color": "#2a3f5f"
           }
          },
          "ternary": {
           "aaxis": {
            "gridcolor": "white",
            "linecolor": "white",
            "ticks": ""
           },
           "baxis": {
            "gridcolor": "white",
            "linecolor": "white",
            "ticks": ""
           },
           "bgcolor": "#E5ECF6",
           "caxis": {
            "gridcolor": "white",
            "linecolor": "white",
            "ticks": ""
           }
          },
          "title": {
           "x": 0.05
          },
          "xaxis": {
           "automargin": true,
           "gridcolor": "white",
           "linecolor": "white",
           "ticks": "",
           "title": {
            "standoff": 15
           },
           "zerolinecolor": "white",
           "zerolinewidth": 2
          },
          "yaxis": {
           "automargin": true,
           "gridcolor": "white",
           "linecolor": "white",
           "ticks": "",
           "title": {
            "standoff": 15
           },
           "zerolinecolor": "white",
           "zerolinewidth": 2
          }
         }
        },
        "title": {
         "text": "Histogram for Feature: LOG(CoapplicantIncome) against the Target: Loan_Status"
        },
        "xaxis": {
         "anchor": "y",
         "domain": [
          0,
          0.49
         ],
         "title": {
          "text": "Log(CoapplicantIncome) Feature"
         }
        },
        "xaxis2": {
         "anchor": "y2",
         "domain": [
          0.51,
          1
         ],
         "matches": "x",
         "title": {
          "text": "Log_CoapplicantIncome"
         }
        },
        "yaxis": {
         "anchor": "x",
         "domain": [
          0,
          1
         ],
         "title": {
          "text": "count"
         }
        },
        "yaxis2": {
         "anchor": "x2",
         "domain": [
          0,
          1
         ],
         "matches": "y",
         "showticklabels": false
        }
       }
      }
     },
     "metadata": {},
     "output_type": "display_data"
    }
   ],
   "source": [
    "# Log transformation\n",
    "raw['Log_CoapplicantIncome'] = np.log(raw['CoapplicantIncome']) #created a new column\n",
    "#print(raw_data_df.columns)\n",
    "\n",
    "# Plot the transformed data\n",
    "fig = px.histogram(data_frame=raw, x='Log_CoapplicantIncome', color='Loan_Status',\n",
    "                   title='Histogram for Feature: LOG(CoapplicantIncome) against the Target: Loan_Status',\n",
    "                   facet_col='Loan_Status')\n",
    "fig.update_layout(xaxis_title='Log(CoapplicantIncome) Feature', showlegend=False)\n",
    "fig.show()"
   ]
  },
  {
   "cell_type": "markdown",
   "metadata": {},
   "source": [
    "#### Statistical analysis using Co-applicant Incomee and Loan Status"
   ]
  },
  {
   "cell_type": "code",
   "execution_count": 12,
   "metadata": {},
   "outputs": [
    {
     "name": "stdout",
     "output_type": "stream",
     "text": [
      "Total number:\n",
      " Yes: 412\tNo: 0\n",
      "\n",
      "Range of Values:\n",
      "\tYes\n",
      " \tmin: 0.0\t max: 5701.0\t mode: 0    0.0\n",
      "Name: CoapplicantIncome, dtype: float64\n",
      "\tNo\n",
      " min: nan\t max: nan\n",
      "The mean (average):\n",
      "Yes: 1328.2\tNo: nan\n",
      "\n",
      "The Standard deviation (spread):\n",
      "Yes: 1457.45\tNo: nan\n",
      "\n",
      "The skewness coeffcient:\n",
      "Yes: 0.91\tNo: nan\n",
      "\n"
     ]
    }
   ],
   "source": [
    "#Analysis\n",
    "#To avoid scaling back using exp() well work with CoapplicantIncome over CoapplicantIncome\n",
    "#Seperate column between yes and no\n",
    "yes_df = raw[raw['Loan_Status'] == 'Y'][['CoapplicantIncome']]\n",
    "no_df = raw[raw['CoapplicantIncome'] == 'N'][['CoapplicantIncome']]\n",
    "\n",
    "#Stats\n",
    "\n",
    "#mean\n",
    "mean_yes = yes_df['CoapplicantIncome'].mean().__round__(2)\n",
    "mean_no = no_df['CoapplicantIncome'].mean().__round__(2)\n",
    "\n",
    "#standard deviation\n",
    "std_yes = yes_df['CoapplicantIncome'].std().__round__(2)\n",
    "std_no = no_df['CoapplicantIncome'].std().__round__(2)\n",
    "\n",
    "#skewness\n",
    "skew_yes = yes_df['CoapplicantIncome'].skew().__round__(2)\n",
    "skew_no = no_df['CoapplicantIncome'].skew().__round__(2)\n",
    "\n",
    "#min max\n",
    "min_yes = yes_df['CoapplicantIncome'].min().__round__(2)\n",
    "max_yes =yes_df['CoapplicantIncome'].max().__round__(2)\n",
    "mode_yes =yes_df['CoapplicantIncome'].mode().__round__(2)\n",
    "min_no = no_df['CoapplicantIncome'].min().__round__(2)\n",
    "max_no =no_df['CoapplicantIncome'].max().__round__(2)\n",
    "\n",
    "#print(yes_df.columns)\n",
    "print(f\"Total number:\\n Yes: {len(yes_df)}\\tNo: {len(no_df)}\\n\")\n",
    "print(f\"Range of Values:\")\n",
    "print(f\"\\tYes\\n \\tmin: {min_yes}\\t max: {max_yes}\\t mode: {mode_yes}\")\n",
    "print(f\"\\tNo\\n min: {min_no}\\t max: {max_no}\")\n",
    "print(f\"The mean (average):\\nYes: {mean_yes}\\tNo: {mean_no}\\n\")\n",
    "print(f\"The Standard deviation (spread):\\nYes: {std_yes}\\tNo: {std_no}\\n\")\n",
    "print(f\"The skewness coeffcient:\\nYes: {skew_yes}\\tNo: {skew_no}\\n\")"
   ]
  },
  {
   "cell_type": "markdown",
   "metadata": {},
   "source": [
    "# Additional metric \n",
    "Pie chart that shows the approval rates of those with no Co-applicant invome versus those with co-applicant income"
   ]
  },
  {
   "cell_type": "code",
   "execution_count": 15,
   "metadata": {},
   "outputs": [
    {
     "name": "stdout",
     "output_type": "stream",
     "text": [
      "     CoapplicantIncome Loan_Status\n",
      "1               1508.0           N\n",
      "3               2358.0           Y\n",
      "5               4196.0           Y\n",
      "6               1516.0           Y\n",
      "7               2504.0           N\n",
      "..                 ...         ...\n",
      "605             3800.0           N\n",
      "606             2500.0           Y\n",
      "607             1411.0           Y\n",
      "608             1950.0           Y\n",
      "611              240.0           Y\n",
      "\n",
      "[323 rows x 2 columns]\n"
     ]
    },
    {
     "name": "stderr",
     "output_type": "stream",
     "text": [
      "c:\\Users\\amosm\\anaconda3\\Lib\\site-packages\\IPython\\core\\pylabtools.py:152: UserWarning:\n",
      "\n",
      "Glyph 9 (\t) missing from current font.\n",
      "\n"
     ]
    },
    {
     "data": {
      "image/png": "[encoded data removed]",
      "text/plain": [
       "<Figure size 300x300 with 1 Axes>"
      ]
     },
     "metadata": {},
     "output_type": "display_data"
    },
    {
     "data": {
      "image/png": "[encoded data removed]",
      "text/plain": [
       "<Figure size 300x300 with 1 Axes>"
      ]
     },
     "metadata": {},
     "output_type": "display_data"
    }
   ],
   "source": [
    "Appincome = raw[['CoapplicantIncome','Loan_Status']]\n",
    "incom_positive = Appincome[\"CoapplicantIncome\"]>0\n",
    "print(Appincome[incom_positive])\n",
    "\n",
    "Appincome = raw[['CoapplicantIncome','Loan_Status']]\n",
    "incom_zero = Appincome[\"CoapplicantIncome\"]==0\n",
    "yes = Appincome[incom_positive]\n",
    "no = Appincome[incom_zero]\n",
    "#count values and calulate totals \n",
    "yes_total = yes['Loan_Status'].value_counts()\n",
    "No_total= no['Loan_Status'].value_counts()\n",
    "All_CoappIcY = yes_total['Y'] + yes_total['N']\n",
    "All_CoappIcN = No_total['Y'] + No_total['N']\n",
    "#calculating peercentages for approved loan applicatins for applicans with and without CoapplicantIncome\n",
    "approved_with_CoAppInc = (yes_total['Y']/All_CoappIcY)*100\n",
    "approved_without_CoAppInc = (No_total['Y']/All_CoappIcN)*100\n",
    "#Create Pie charts and plot data\n",
    "pl.figure(figsize=(3,3))\n",
    "pl.pie(yes_total, labels= yes_total, colors=('#3361FF',\"#FF33C4\"))\n",
    "pl.title(\"loan Approval rates with respect to applicanta having C applicant income\")\n",
    "pl.legend(labels=[f\"\\t\\ napplicants approved with Co-applicant income: {yes_total['Y']}\\n\\\n",
    "                applicants Declined with Co-applicant income: {yes_total['N']}\\n\\\n",
    "                Total data entries: {All_CoappIcY}\\n\\\n",
    "                Percatage of approved loans with Co-applicabt income: {approved_with_CoAppInc:.2f}%\"\n",
    "                \n",
    "                ]\n",
    "                    , loc='best', facecolor=None\n",
    "                    )\n",
    "pl.figure(figsize=(3,3))\n",
    "pl.pie(No_total, labels= No_total, colors=('g',\"r\"))\n",
    "pl.title(\"loan Approval rates with respect to applicanta having Co applicant income\")\n",
    "pl.legend(labels=[f\"\\t\\\n",
    "                applicants approved without Co-applicant income: {No_total['Y']}\\n\\\n",
    "                applicants Declined without Co-applicant income: {No_total['N']}\\n\\\n",
    "                Total data entries: {All_CoappIcN}\\n\\\n",
    "                Percatage of approved loans without Co-applicabt income: {approved_without_CoAppInc:.2f}%\"\n",
    "                   \n",
    "                   ]           \n",
    "                    , loc='best', facecolor=None\n",
    "                    )\n",
    "pl.show()\n"
   ]
  },
  {
   "cell_type": "markdown",
   "metadata": {},
   "source": [
    "#### Observation\n",
    "\n",
    " from the pie charts we are able to deduce that over 70 percet of applicant had a higher achnce of getting\n",
    " a loan approved if they had Co--applicant income "
   ]
  },
  {
   "cell_type": "markdown",
   "metadata": {},
   "source": [
    "# Property area data analysis\n"
   ]
  },
  {
   "cell_type": "markdown",
   "metadata": {},
   "source": [
    "#### Step 1 importing libraries"
   ]
  },
  {
   "cell_type": "code",
   "execution_count": 16,
   "metadata": {},
   "outputs": [],
   "source": [
    "import pandas as pd\n",
    "import numpy as np \n",
    "import matplotlib.pyplot as plot\n",
    "import plotly.express as px"
   ]
  },
  {
   "cell_type": "markdown",
   "metadata": {},
   "source": [
    "#### Step 2. importing and aggrigating data"
   ]
  },
  {
   "cell_type": "code",
   "execution_count": 18,
   "metadata": {},
   "outputs": [],
   "source": [
    "#importing data \n",
    "raw_data = pd.read_csv(\"Data/raw_data.csv\")\n",
    "#print(raw_data)\n",
    "meta_data = pd.read_csv(\"Data/metadata.csv\")\n",
    "#print(meta_data.head)\n",
    "#aggrigating Property_area feature\n",
    "propA_df = pd.DataFrame(\n",
    "        raw_data[['Property_Area', 'Loan_Status']]\n",
    "        .groupby('Loan_Status')\n",
    "        .value_counts()\n",
    "        .reset_index()\n",
    "    )"
   ]
  },
  {
   "cell_type": "markdown",
   "metadata": {},
   "source": [
    "#### Step 3 prepair data for plotting "
   ]
  },
  {
   "cell_type": "code",
   "execution_count": 20,
   "metadata": {},
   "outputs": [],
   "source": [
    "fig = px.bar(\n",
    "    data_frame=propA_df,\n",
    "    x = 'Property_Area',\n",
    "    y = 'count',\n",
    "    facet_col=  'Loan_Status',\n",
    "    color = propA_df['Loan_Status'].astype(str),\n",
    ")"
   ]
  },
  {
   "cell_type": "markdown",
   "metadata": {},
   "source": [
    "#### Step 4. Plot data on bar graph"
   ]
  },
  {
   "cell_type": "code",
   "execution_count": 21,
   "metadata": {},
   "outputs": [
    {
     "data": {
      "application/vnd.plotly.v1+json": {
       "config": {
        "plotlyServerURL": "https://plot.ly"
       },
       "data": [
        {
         "alignmentgroup": "True",
         "hovertemplate": "color=N<br>Loan_Status=N<br>Property_Area=%{x}<br>count=%{y}<extra></extra>",
         "legendgroup": "N",
         "marker": {
          "color": "#636efa",
          "pattern": {
           "shape": ""
          }
         },
         "name": "N",
         "offsetgroup": "N",
         "orientation": "v",
         "showlegend": true,
         "textposition": "auto",
         "type": "bar",
         "x": [
          "Rural",
          "Urban",
          "Semiurban"
         ],
         "xaxis": "x",
         "y": [
          69,
          69,
          54
         ],
         "yaxis": "y"
        },
        {
         "alignmentgroup": "True",
         "hovertemplate": "color=Y<br>Loan_Status=Y<br>Property_Area=%{x}<br>count=%{y}<extra></extra>",
         "legendgroup": "Y",
         "marker": {
          "color": "#EF553B",
          "pattern": {
           "shape": ""
          }
         },
         "name": "Y",
         "offsetgroup": "Y",
         "orientation": "v",
         "showlegend": true,
         "textposition": "auto",
         "type": "bar",
         "x": [
          "Semiurban",
          "Urban",
          "Rural"
         ],
         "xaxis": "x2",
         "y": [
          179,
          133,
          110
         ],
         "yaxis": "y2"
        }
       ],
       "layout": {
        "annotations": [
         {
          "font": {},
          "showarrow": false,
          "text": "Loan_Status=N",
          "x": 0.245,
          "xanchor": "center",
          "xref": "paper",
          "y": 1,
          "yanchor": "bottom",
          "yref": "paper"
         },
         {
          "font": {},
          "showarrow": false,
          "text": "Loan_Status=Y",
          "x": 0.755,
          "xanchor": "center",
          "xref": "paper",
          "y": 1,
          "yanchor": "bottom",
          "yref": "paper"
         }
        ],
        "barmode": "relative",
        "legend": {
         "title": {
          "text": "color"
         },
         "tracegroupgap": 0
        },
        "margin": {
         "t": 60
        },
        "template": {
         "data": {
          "bar": [
           {
            "error_x": {
             "color": "#2a3f5f"
            },
            "error_y": {
             "color": "#2a3f5f"
            },
            "marker": {
             "line": {
              "color": "#E5ECF6",
              "width": 0.5
             },
             "pattern": {
              "fillmode": "overlay",
              "size": 10,
              "solidity": 0.2
             }
            },
            "type": "bar"
           }
          ],
          "barpolar": [
           {
            "marker": {
             "line": {
              "color": "#E5ECF6",
              "width": 0.5
             },
             "pattern": {
              "fillmode": "overlay",
              "size": 10,
              "solidity": 0.2
             }
            },
            "type": "barpolar"
           }
          ],
          "carpet": [
           {
            "aaxis": {
             "endlinecolor": "#2a3f5f",
             "gridcolor": "white",
             "linecolor": "white",
             "minorgridcolor": "white",
             "startlinecolor": "#2a3f5f"
            },
            "baxis": {
             "endlinecolor": "#2a3f5f",
             "gridcolor": "white",
             "linecolor": "white",
             "minorgridcolor": "white",
             "startlinecolor": "#2a3f5f"
            },
            "type": "carpet"
           }
          ],
          "choropleth": [
           {
            "colorbar": {
             "outlinewidth": 0,
             "ticks": ""
            },
            "type": "choropleth"
           }
          ],
          "contour": [
           {
            "colorbar": {
             "outlinewidth": 0,
             "ticks": ""
            },
            "colorscale": [
             [
              0,
              "#0d0887"
             ],
             [
              0.1111111111111111,
              "#46039f"
             ],
             [
              0.2222222222222222,
              "#7201a8"
             ],
             [
              0.3333333333333333,
              "#9c179e"
             ],
             [
              0.4444444444444444,
              "#bd3786"
             ],
             [
              0.5555555555555556,
              "#d8576b"
             ],
             [
              0.6666666666666666,
              "#ed7953"
             ],
             [
              0.7777777777777778,
              "#fb9f3a"
             ],
             [
              0.8888888888888888,
              "#fdca26"
             ],
             [
              1,
              "#f0f921"
             ]
            ],
            "type": "contour"
           }
          ],
          "contourcarpet": [
           {
            "colorbar": {
             "outlinewidth": 0,
             "ticks": ""
            },
            "type": "contourcarpet"
           }
          ],
          "heatmap": [
           {
            "colorbar": {
             "outlinewidth": 0,
             "ticks": ""
            },
            "colorscale": [
             [
              0,
              "#0d0887"
             ],
             [
              0.1111111111111111,
              "#46039f"
             ],
             [
              0.2222222222222222,
              "#7201a8"
             ],
             [
              0.3333333333333333,
              "#9c179e"
             ],
             [
              0.4444444444444444,
              "#bd3786"
             ],
             [
              0.5555555555555556,
              "#d8576b"
             ],
             [
              0.6666666666666666,
              "#ed7953"
             ],
             [
              0.7777777777777778,
              "#fb9f3a"
             ],
             [
              0.8888888888888888,
              "#fdca26"
             ],
             [
              1,
              "#f0f921"
             ]
            ],
            "type": "heatmap"
           }
          ],
          "heatmapgl": [
           {
            "colorbar": {
             "outlinewidth": 0,
             "ticks": ""
            },
            "colorscale": [
             [
              0,
              "#0d0887"
             ],
             [
              0.1111111111111111,
              "#46039f"
             ],
             [
              0.2222222222222222,
              "#7201a8"
             ],
             [
              0.3333333333333333,
              "#9c179e"
             ],
             [
              0.4444444444444444,
              "#bd3786"
             ],
             [
              0.5555555555555556,
              "#d8576b"
             ],
             [
              0.6666666666666666,
              "#ed7953"
             ],
             [
              0.7777777777777778,
              "#fb9f3a"
             ],
             [
              0.8888888888888888,
              "#fdca26"
             ],
             [
              1,
              "#f0f921"
             ]
            ],
            "type": "heatmapgl"
           }
          ],
          "histogram": [
           {
            "marker": {
             "pattern": {
              "fillmode": "overlay",
              "size": 10,
              "solidity": 0.2
             }
            },
            "type": "histogram"
           }
          ],
          "histogram2d": [
           {
            "colorbar": {
             "outlinewidth": 0,
             "ticks": ""
            },
            "colorscale": [
             [
              0,
              "#0d0887"
             ],
             [
              0.1111111111111111,
              "#46039f"
             ],
             [
              0.2222222222222222,
              "#7201a8"
             ],
             [
              0.3333333333333333,
              "#9c179e"
             ],
             [
              0.4444444444444444,
              "#bd3786"
             ],
             [
              0.5555555555555556,
              "#d8576b"
             ],
             [
              0.6666666666666666,
              "#ed7953"
             ],
             [
              0.7777777777777778,
              "#fb9f3a"
             ],
             [
              0.8888888888888888,
              "#fdca26"
             ],
             [
              1,
              "#f0f921"
             ]
            ],
            "type": "histogram2d"
           }
          ],
          "histogram2dcontour": [
           {
            "colorbar": {
             "outlinewidth": 0,
             "ticks": ""
            },
            "colorscale": [
             [
              0,
              "#0d0887"
             ],
             [
              0.1111111111111111,
              "#46039f"
             ],
             [
              0.2222222222222222,
              "#7201a8"
             ],
             [
              0.3333333333333333,
              "#9c179e"
             ],
             [
              0.4444444444444444,
              "#bd3786"
             ],
             [
              0.5555555555555556,
              "#d8576b"
             ],
             [
              0.6666666666666666,
              "#ed7953"
             ],
             [
              0.7777777777777778,
              "#fb9f3a"
             ],
             [
              0.8888888888888888,
              "#fdca26"
             ],
             [
              1,
              "#f0f921"
             ]
            ],
            "type": "histogram2dcontour"
           }
          ],
          "mesh3d": [
           {
            "colorbar": {
             "outlinewidth": 0,
             "ticks": ""
            },
            "type": "mesh3d"
           }
          ],
          "parcoords": [
           {
            "line": {
             "colorbar": {
              "outlinewidth": 0,
              "ticks": ""
             }
            },
            "type": "parcoords"
           }
          ],
          "pie": [
           {
            "automargin": true,
            "type": "pie"
           }
          ],
          "scatter": [
           {
            "fillpattern": {
             "fillmode": "overlay",
             "size": 10,
             "solidity": 0.2
            },
            "type": "scatter"
           }
          ],
          "scatter3d": [
           {
            "line": {
             "colorbar": {
              "outlinewidth": 0,
              "ticks": ""
             }
            },
            "marker": {
             "colorbar": {
              "outlinewidth": 0,
              "ticks": ""
             }
            },
            "type": "scatter3d"
           }
          ],
          "scattercarpet": [
           {
            "marker": {
             "colorbar": {
              "outlinewidth": 0,
              "ticks": ""
             }
            },
            "type": "scattercarpet"
           }
          ],
          "scattergeo": [
           {
            "marker": {
             "colorbar": {
              "outlinewidth": 0,
              "ticks": ""
             }
            },
            "type": "scattergeo"
           }
          ],
          "scattergl": [
           {
            "marker": {
             "colorbar": {
              "outlinewidth": 0,
              "ticks": ""
             }
            },
            "type": "scattergl"
           }
          ],
          "scattermapbox": [
           {
            "marker": {
             "colorbar": {
              "outlinewidth": 0,
              "ticks": ""
             }
            },
            "type": "scattermapbox"
           }
          ],
          "scatterpolar": [
           {
            "marker": {
             "colorbar": {
              "outlinewidth": 0,
              "ticks": ""
             }
            },
            "type": "scatterpolar"
           }
          ],
          "scatterpolargl": [
           {
            "marker": {
             "colorbar": {
              "outlinewidth": 0,
              "ticks": ""
             }
            },
            "type": "scatterpolargl"
           }
          ],
          "scatterternary": [
           {
            "marker": {
             "colorbar": {
              "outlinewidth": 0,
              "ticks": ""
             }
            },
            "type": "scatterternary"
           }
          ],
          "surface": [
           {
            "colorbar": {
             "outlinewidth": 0,
             "ticks": ""
            },
            "colorscale": [
             [
              0,
              "#0d0887"
             ],
             [
              0.1111111111111111,
              "#46039f"
             ],
             [
              0.2222222222222222,
              "#7201a8"
             ],
             [
              0.3333333333333333,
              "#9c179e"
             ],
             [
              0.4444444444444444,
              "#bd3786"
             ],
             [
              0.5555555555555556,
              "#d8576b"
             ],
             [
              0.6666666666666666,
              "#ed7953"
             ],
             [
              0.7777777777777778,
              "#fb9f3a"
             ],
             [
              0.8888888888888888,
              "#fdca26"
             ],
             [
              1,
              "#f0f921"
             ]
            ],
            "type": "surface"
           }
          ],
          "table": [
           {
            "cells": {
             "fill": {
              "color": "#EBF0F8"
             },
             "line": {
              "color": "white"
             }
            },
            "header": {
             "fill": {
              "color": "#C8D4E3"
             },
             "line": {
              "color": "white"
             }
            },
            "type": "table"
           }
          ]
         },
         "layout": {
          "annotationdefaults": {
           "arrowcolor": "#2a3f5f",
           "arrowhead": 0,
           "arrowwidth": 1
          },
          "autotypenumbers": "strict",
          "coloraxis": {
           "colorbar": {
            "outlinewidth": 0,
            "ticks": ""
           }
          },
          "colorscale": {
           "diverging": [
            [
             0,
             "#8e0152"
            ],
            [
             0.1,
             "#c51b7d"
            ],
            [
             0.2,
             "#de77ae"
            ],
            [
             0.3,
             "#f1b6da"
            ],
            [
             0.4,
             "#fde0ef"
            ],
            [
             0.5,
             "#f7f7f7"
            ],
            [
             0.6,
             "#e6f5d0"
            ],
            [
             0.7,
             "#b8e186"
            ],
            [
             0.8,
             "#7fbc41"
            ],
            [
             0.9,
             "#4d9221"
            ],
            [
             1,
             "#276419"
            ]
           ],
           "sequential": [
            [
             0,
             "#0d0887"
            ],
            [
             0.1111111111111111,
             "#46039f"
            ],
            [
             0.2222222222222222,
             "#7201a8"
            ],
            [
             0.3333333333333333,
             "#9c179e"
            ],
            [
             0.4444444444444444,
             "#bd3786"
            ],
            [
             0.5555555555555556,
             "#d8576b"
            ],
            [
             0.6666666666666666,
             "#ed7953"
            ],
            [
             0.7777777777777778,
             "#fb9f3a"
            ],
            [
             0.8888888888888888,
             "#fdca26"
            ],
            [
             1,
             "#f0f921"
            ]
           ],
           "sequentialminus": [
            [
             0,
             "#0d0887"
            ],
            [
             0.1111111111111111,
             "#46039f"
            ],
            [
             0.2222222222222222,
             "#7201a8"
            ],
            [
             0.3333333333333333,
             "#9c179e"
            ],
            [
             0.4444444444444444,
             "#bd3786"
            ],
            [
             0.5555555555555556,
             "#d8576b"
            ],
            [
             0.6666666666666666,
             "#ed7953"
            ],
            [
             0.7777777777777778,
             "#fb9f3a"
            ],
            [
             0.8888888888888888,
             "#fdca26"
            ],
            [
             1,
             "#f0f921"
            ]
           ]
          },
          "colorway": [
           "#636efa",
           "#EF553B",
           "#00cc96",
           "#ab63fa",
           "#FFA15A",
           "#19d3f3",
           "#FF6692",
           "#B6E880",
           "#FF97FF",
           "#FECB52"
          ],
          "font": {
           "color": "#2a3f5f"
          },
          "geo": {
           "bgcolor": "white",
           "lakecolor": "white",
           "landcolor": "#E5ECF6",
           "showlakes": true,
           "showland": true,
           "subunitcolor": "white"
          },
          "hoverlabel": {
           "align": "left"
          },
          "hovermode": "closest",
          "mapbox": {
           "style": "light"
          },
          "paper_bgcolor": "white",
          "plot_bgcolor": "#E5ECF6",
          "polar": {
           "angularaxis": {
            "gridcolor": "white",
            "linecolor": "white",
            "ticks": ""
           },
           "bgcolor": "#E5ECF6",
           "radialaxis": {
            "gridcolor": "white",
            "linecolor": "white",
            "ticks": ""
           }
          },
          "scene": {
           "xaxis": {
            "backgroundcolor": "#E5ECF6",
            "gridcolor": "white",
            "gridwidth": 2,
            "linecolor": "white",
            "showbackground": true,
            "ticks": "",
            "zerolinecolor": "white"
           },
           "yaxis": {
            "backgroundcolor": "#E5ECF6",
            "gridcolor": "white",
            "gridwidth": 2,
            "linecolor": "white",
            "showbackground": true,
            "ticks": "",
            "zerolinecolor": "white"
           },
           "zaxis": {
            "backgroundcolor": "#E5ECF6",
            "gridcolor": "white",
            "gridwidth": 2,
            "linecolor": "white",
            "showbackground": true,
            "ticks": "",
            "zerolinecolor": "white"
           }
          },
          "shapedefaults": {
           "line": {
            "color": "#2a3f5f"
           }
          },
          "ternary": {
           "aaxis": {
            "gridcolor": "white",
            "linecolor": "white",
            "ticks": ""
           },
           "baxis": {
            "gridcolor": "white",
            "linecolor": "white",
            "ticks": ""
           },
           "bgcolor": "#E5ECF6",
           "caxis": {
            "gridcolor": "white",
            "linecolor": "white",
            "ticks": ""
           }
          },
          "title": {
           "x": 0.05
          },
          "xaxis": {
           "automargin": true,
           "gridcolor": "white",
           "linecolor": "white",
           "ticks": "",
           "title": {
            "standoff": 15
           },
           "zerolinecolor": "white",
           "zerolinewidth": 2
          },
          "yaxis": {
           "automargin": true,
           "gridcolor": "white",
           "linecolor": "white",
           "ticks": "",
           "title": {
            "standoff": 15
           },
           "zerolinecolor": "white",
           "zerolinewidth": 2
          }
         }
        },
        "xaxis": {
         "anchor": "y",
         "domain": [
          0,
          0.49
         ],
         "title": {
          "text": "Property Area"
         }
        },
        "xaxis2": {
         "anchor": "y2",
         "domain": [
          0.51,
          1
         ],
         "matches": "x",
         "title": {
          "text": "Property_Area"
         }
        },
        "yaxis": {
         "anchor": "x",
         "domain": [
          0,
          1
         ],
         "title": {
          "text": "Number of entries"
         }
        },
        "yaxis2": {
         "anchor": "x2",
         "domain": [
          0,
          1
         ],
         "matches": "y",
         "showticklabels": false
        }
       }
      }
     },
     "metadata": {},
     "output_type": "display_data"
    }
   ],
   "source": [
    "#Nmae figure X and Y axis\n",
    "fig.update_layout(xaxis_title='Property Area', yaxis_title='Number of entries')\n",
    "fig.show()"
   ]
  },
  {
   "cell_type": "markdown",
   "metadata": {},
   "source": [
    "### Observation\n",
    "From the graph, we see that those living in semi-urban areas had higher chances of getting their loans approved unlike those living in urban and rural areas"
   ]
  },
  {
   "cell_type": "markdown",
   "metadata": {},
   "source": [
    "### Addional metric \n",
    "\n",
    "Pie chart that shows the approval rates of applicants based on thier property area "
   ]
  },
  {
   "cell_type": "code",
   "execution_count": 22,
   "metadata": {},
   "outputs": [
    {
     "data": {
      "image/png": "[encoded data removed]",
      "text/plain": [
       "<Figure size 400x400 with 1 Axes>"
      ]
     },
     "metadata": {},
     "output_type": "display_data"
    },
    {
     "data": {
      "image/png": "[encoded data removed]",
      "text/plain": [
       "<Figure size 400x400 with 1 Axes>"
      ]
     },
     "metadata": {},
     "output_type": "display_data"
    },
    {
     "data": {
      "image/png": "[encoded data removed]",
      "text/plain": [
       "<Figure size 400x400 with 1 Axes>"
      ]
     },
     "metadata": {},
     "output_type": "display_data"
    }
   ],
   "source": [
    "# Pie charts will represent amout of people's approval rated depending on their property area \n",
    "#and percetage of approvals will be shown inthe legend \n",
    "Urban_Area_only = raw_data['Property_Area'] == \"Urban\"\n",
    "Rural_Area_only = raw_data['Property_Area'] == \"Rural\"\n",
    "Semiurban_Area_only = raw_data['Property_Area'] == \"Semiurban\"\n",
    "Urban = raw_data[Urban_Area_only] \n",
    "Rural= raw_data[Rural_Area_only] \n",
    "Semiurban = raw_data[Semiurban_Area_only] \n",
    "#print(Urban)\n",
    "\n",
    "#isolate and count data in Property area column\n",
    "Property_area_totU = Urban['Loan_Status'].value_counts()\n",
    "Property_area_totR= Rural['Loan_Status'].value_counts()\n",
    "Property_area_totSU = Semiurban['Loan_Status'].value_counts()\n",
    "Missing_values_in_Property_area = meta_data.loc[meta_data['Column Name'] == 'Property_Area','missing Values'].values[0]\n",
    "#Calculate totals \n",
    "Urban_Totals = Property_area_totU['Y']+Property_area_totU['N']\n",
    "Rural_Totals = Property_area_totR['Y']+Property_area_totR['N']\n",
    "Semiurban_Totals = Property_area_totSU['Y']+Property_area_totSU['N']\n",
    "#Calculate percentages\n",
    "Urban_Percentage = (Property_area_totU['Y']/Urban_Totals)*100\n",
    "Rural_Percentage = (Property_area_totR['Y']/Rural_Totals)*100\n",
    "Semiurban_Percentage = (Property_area_totSU['Y']/Semiurban_Totals)*100\n",
    "#Creating and plotting pie chart\n",
    "plot.figure(0,figsize=(4,4))\n",
    "plot.pie(Property_area_totU, labels= Property_area_totU, colors=('r',\"g\"))\n",
    "plot.title(\"loan Approvals of Applicants living in an urban area\")\n",
    "plot.legend(labels=[f\"Total number of approvals: {Property_area_totU['Y']}\\n\\\n",
    "                   Total number of declines: {Property_area_totU['N']}\\n\\\n",
    "                   Overall Total: {Urban_Totals}\\n\\\n",
    "                    Percentage of approvals: {Urban_Percentage:.2f}\"\n",
    "                   \n",
    "                ]\n",
    "                    , loc='upper right', facecolor=None)\n",
    "plot.figure(1,figsize=(4,4))\n",
    "plot.pie(Property_area_totR, labels= Property_area_totR, colors=('b',\"#ffcc00\"))\n",
    "plot.title(\"loan Approvals of Applicants living in an rural area\")\n",
    "plot.legend(labels=[f\"Total number of approval: {Property_area_totR['Y']}\\n\\\n",
    "                   Total number of declines: {Property_area_totR['N']}\\n\\\n",
    "                    Overall Total: {Rural_Totals}\\n\\\n",
    "                    Percentage of approvals: {Rural_Percentage:.2f}\"\n",
    "                   \n",
    "                ]\n",
    "                    , loc='upper right', facecolor=None)\n",
    "plot.figure(2,figsize=(4,4))\n",
    "plot.pie(Property_area_totSU, labels= Property_area_totSU, colors=('#5eb32e','#ddbad5'))\n",
    "plot.title(\"loan Approvals of Applicants living in an semiurban area\")\n",
    "plot.legend(labels=[f\"Total number of approvals: {Property_area_totSU['Y']}\\n\\\n",
    "                    Total number of declines: {Property_area_totSU['N']}\\n\\\n",
    "                    Overall Total: {Semiurban_Totals}\\n\\\n",
    "                    Percentage of approvals: {Semiurban_Percentage:.2f} \"\n",
    "                   \n",
    "                ]\n",
    "                    , loc='upper right', facecolor=None)\n",
    "\n",
    "\n",
    "plot.show()\n"
   ]
  }
 ],
 "metadata": {
  "kernelspec": {
   "display_name": "base",
   "language": "python",
   "name": "python3"
  },
  "language_info": {
   "codemirror_mode": {
    "name": "ipython",
    "version": 3
   },
   "file_extension": ".py",
   "mimetype": "text/x-python",
   "name": "python",
   "nbconvert_exporter": "python",
   "pygments_lexer": "ipython3",
   "version": "3.11.7"
  }
 },
 "nbformat": 4,
 "nbformat_minor": 2
}
